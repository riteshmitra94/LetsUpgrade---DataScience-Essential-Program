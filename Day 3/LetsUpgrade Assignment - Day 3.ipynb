{
 "cells": [
  {
   "cell_type": "raw",
   "metadata": {},
   "source": [
    "Question 1:\n",
    "Create a numpy array starting from 2 till 50 with a stepsize of 3."
   ]
  },
  {
   "cell_type": "code",
   "execution_count": 3,
   "metadata": {},
   "outputs": [
    {
     "name": "stdout",
     "output_type": "stream",
     "text": [
      "[ 2  5  8 11 14 17 20 23 26 29 32 35 38 41 44 47]\n"
     ]
    }
   ],
   "source": [
    "import numpy as np\n",
    "\n",
    "#Solution to Question 1:\n",
    "arr1 = np.arange(2, 50, 3)\n",
    "print(arr1)"
   ]
  },
  {
   "cell_type": "raw",
   "metadata": {},
   "source": [
    "Question 2:\n",
    "Accept two lists of 5 elements each from the user.\n",
    "Convert them to numpy arrays. Concatenate these arrays and print it. Also sort these arrays and print it."
   ]
  },
  {
   "cell_type": "code",
   "execution_count": 6,
   "metadata": {},
   "outputs": [
    {
     "name": "stdout",
     "output_type": "stream",
     "text": [
      "\n",
      "Enter element of list1: 1\n",
      "\n",
      "Enter element of list1: 3\n",
      "\n",
      "Enter element of list1: 5\n",
      "\n",
      "Enter element of list1: 7\n",
      "\n",
      "Enter element of list1: 9\n",
      "\n",
      "Enter element of list2: 2\n",
      "\n",
      "Enter element of list2: 4\n",
      "\n",
      "Enter element of list2: 6\n",
      "\n",
      "Enter element of list2: 8\n",
      "\n",
      "Enter element of list2: 10\n",
      "Type of npList1:  <class 'numpy.ndarray'>\n",
      "Type of npList2:  <class 'numpy.ndarray'>\n",
      "Concatenated List:  [ 1  3  5  7  9  2  4  6  8 10]\n",
      "Sorted List:  [ 1  2  3  4  5  6  7  8  9 10]\n"
     ]
    }
   ],
   "source": [
    "#Solution to Question 2:\n",
    "\n",
    "#creating two lists\n",
    "list1 = []\n",
    "list2 = []\n",
    "\n",
    "for x in range(5):\n",
    "    list1.append(int(input('\\nEnter element of list1: ')))\n",
    "    \n",
    "\n",
    "for x in range(5):\n",
    "    list2.append(int(input('\\nEnter element of list2: ')))\n",
    "\n",
    "npList1 = np.array(list1)\n",
    "npList2 = np.array(list2)\n",
    "\n",
    "print('Type of npList1: ',type(npList1))\n",
    "print('Type of npList2: ',type(npList2))\n",
    "\n",
    "np_concatList = np.concatenate((npList1, npList2))\n",
    "\n",
    "print('Concatenated List: ',np_concatList)\n",
    "\n",
    "sortedList = np.sort(np_concatList)\n",
    "\n",
    "print('Sorted List: ',sortedList)"
   ]
  },
  {
   "cell_type": "raw",
   "metadata": {},
   "source": [
    "Question 3:\n",
    "Write a code snippet to find the dimensions of a ndarray and its size."
   ]
  },
  {
   "cell_type": "code",
   "execution_count": 7,
   "metadata": {},
   "outputs": [
    {
     "name": "stdout",
     "output_type": "stream",
     "text": [
      "Dimensions of ndarray:  2\n",
      "Size of ndarray:  8\n"
     ]
    }
   ],
   "source": [
    "arr_2D = np.array([[2,4,6,8], [1,3,5,7]])\n",
    "\n",
    "print('Dimensions of ndarray: ',arr_2D.ndim)\n",
    "\n",
    "print('Size of ndarray: ',arr_2D.size)"
   ]
  },
  {
   "cell_type": "raw",
   "metadata": {},
   "source": [
    "Question 4:\n",
    "How to convert a 1D array into a 2D array? Demonstrate with the help of a code snippet\n",
    "Hint: np.newaxis, np.expand_dims"
   ]
  },
  {
   "cell_type": "code",
   "execution_count": 16,
   "metadata": {},
   "outputs": [
    {
     "name": "stdout",
     "output_type": "stream",
     "text": [
      "arr_1D type:  <class 'numpy.ndarray'>\n",
      "Expanding row using new-axis:  [[1 2 3 4 5 6 7 8]]\n",
      "\n",
      "Shape of arr_2D:  (1, 8)\n",
      "\n",
      "Expanding row using expand_dims:  [[1 2 3 4 5 6 7 8]]\n",
      "\n",
      "Shape of arr_2D:  (1, 8)\n",
      "\n",
      "\n",
      "Expanding column using new-axis:  [[1]\n",
      " [2]\n",
      " [3]\n",
      " [4]\n",
      " [5]\n",
      " [6]\n",
      " [7]\n",
      " [8]]\n",
      "\n",
      "Shape of arr_2D:  (8, 1)\n",
      "\n",
      "Expanding column using expand_dims:  [[1]\n",
      " [2]\n",
      " [3]\n",
      " [4]\n",
      " [5]\n",
      " [6]\n",
      " [7]\n",
      " [8]]\n",
      "\n",
      "Shape of arr_2D:  (8, 1)\n"
     ]
    }
   ],
   "source": [
    "arr_1D = np.array([1,2,3,4,5,6,7,8])\n",
    "\n",
    "print('arr_1D type: ',type(arr_1D))\n",
    "\n",
    "#converting 1D array to 2D by expanding in row:\n",
    "arr_2D = arr_1D[np.newaxis, : ]\n",
    "print('Expanding row using new-axis: ',arr_2D)\n",
    "print('\\nShape of arr_2D: ',np.shape(arr_2D))\n",
    "\n",
    "arr_2D = np.expand_dims(arr_1D, axis = 0)\n",
    "\n",
    "print('\\nExpanding row using expand_dims: ',arr_2D)\n",
    "print('\\nShape of arr_2D: ',np.shape(arr_2D))\n",
    "\n",
    "\n",
    "#converting 1D array to 2D by expanding in column:\n",
    "arr_2D = arr_1D[:, np.newaxis]\n",
    "print('\\n\\nExpanding column using new-axis: ',arr_2D)\n",
    "print('\\nShape of arr_2D: ',np.shape(arr_2D))\n",
    "\n",
    "arr_2D = np.expand_dims(arr_1D, axis = 1)\n",
    "\n",
    "print('\\nExpanding column using expand_dims: ',arr_2D)\n",
    "print('\\nShape of arr_2D: ',np.shape(arr_2D))"
   ]
  },
  {
   "cell_type": "raw",
   "metadata": {},
   "source": [
    "Question 5:\n",
    "Consider two square numpy arrays. Stack them vertically and horizontally.\n",
    "Hint: Use vstack(), hstack()"
   ]
  },
  {
   "cell_type": "code",
   "execution_count": 21,
   "metadata": {},
   "outputs": [
    {
     "name": "stdout",
     "output_type": "stream",
     "text": [
      "Vertically stacking arrays: \n",
      " [[ 1  4]\n",
      " [ 9 16]\n",
      " [25 36]\n",
      " [49 64]]\n",
      "\n",
      "\n",
      "Horizontally stacking arrays: \n",
      " [[ 1  4 25 36]\n",
      " [ 9 16 49 64]]\n"
     ]
    }
   ],
   "source": [
    "sq_arr1 = np.square(np.array([[1,2], [3,4]]))\n",
    "sq_arr2 = np.square(np.array([[5,6], [7,8]]))\n",
    "\n",
    "v_stack = np.vstack((sq_arr1, sq_arr2))\n",
    "h_stack = np.hstack((sq_arr1, sq_arr2))\n",
    "\n",
    "print('Vertically stacking arrays: \\n',v_stack)\n",
    "print('\\n\\nHorizontally stacking arrays: \\n',h_stack)"
   ]
  },
  {
   "cell_type": "raw",
   "metadata": {},
   "source": [
    "Question 6:\n",
    "How to get unique items and counts of unique items?"
   ]
  },
  {
   "cell_type": "code",
   "execution_count": 7,
   "metadata": {},
   "outputs": [
    {
     "name": "stdout",
     "output_type": "stream",
     "text": [
      "Unique elements are:  [1 2 3 4 5 6 7 8 9]\n",
      "Count of unique items is:  9\n"
     ]
    }
   ],
   "source": [
    "arr1 = np.array([1,2,4,3,3,5,6,7,8,8,9,1,2])\n",
    "\n",
    "unique_arr1 = np.unique(arr1)\n",
    "\n",
    "print('Unique elements are: ',unique_arr1)\n",
    "print('Count of unique items is: ',unique_arr1.size)"
   ]
  },
  {
   "cell_type": "code",
   "execution_count": null,
   "metadata": {},
   "outputs": [],
   "source": []
  }
 ],
 "metadata": {
  "kernelspec": {
   "display_name": "Python 3",
   "language": "python",
   "name": "python3"
  },
  "language_info": {
   "codemirror_mode": {
    "name": "ipython",
    "version": 3
   },
   "file_extension": ".py",
   "mimetype": "text/x-python",
   "name": "python",
   "nbconvert_exporter": "python",
   "pygments_lexer": "ipython3",
   "version": "3.7.6"
  }
 },
 "nbformat": 4,
 "nbformat_minor": 4
}
