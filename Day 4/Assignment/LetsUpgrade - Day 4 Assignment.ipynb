{
 "cells": [
  {
   "cell_type": "raw",
   "metadata": {},
   "source": [
    "Question 1:\n",
    "How to import pandas and check the version?"
   ]
  },
  {
   "cell_type": "code",
   "execution_count": 2,
   "metadata": {},
   "outputs": [
    {
     "name": "stdout",
     "output_type": "stream",
     "text": [
      "1.0.1\n"
     ]
    }
   ],
   "source": [
    "#Solution to Question 1:\n",
    "import pandas as pd\n",
    "\n",
    "print(pd.__version__)"
   ]
  },
  {
   "cell_type": "raw",
   "metadata": {},
   "source": [
    "Question 2:\n",
    "How to create a series from a numpy array?"
   ]
  },
  {
   "cell_type": "code",
   "execution_count": 7,
   "metadata": {},
   "outputs": [
    {
     "name": "stdout",
     "output_type": "stream",
     "text": [
      "Series generated using pandas: \n",
      " 0    1\n",
      "1    2\n",
      "2    3\n",
      "3    4\n",
      "4    5\n",
      "5    6\n",
      "dtype: int32\n"
     ]
    }
   ],
   "source": [
    "#Solution to Question 2:\n",
    "import numpy as np\n",
    "np_arr = np.array([1,2,3,4,5,6])\n",
    "\n",
    "pd_series = pd.Series(np_arr)\n",
    "print('Series generated using pandas: \\n',pd_series)"
   ]
  },
  {
   "cell_type": "raw",
   "metadata": {},
   "source": [
    "#Question 3: \n",
    "How to convert the index of a series into a column of a dataframe?"
   ]
  },
  {
   "cell_type": "code",
   "execution_count": 12,
   "metadata": {},
   "outputs": [
    {
     "name": "stdout",
     "output_type": "stream",
     "text": [
      "Series generated using pandas: \n",
      " 0    a\n",
      "1    b\n",
      "2    c\n",
      "3    d\n",
      "4    e\n",
      "dtype: object\n",
      "\n",
      "Dataframe generated from series: \n",
      "    0  1  2  3  4\n",
      "0  a  b  c  d  e\n"
     ]
    }
   ],
   "source": [
    "#Solution to Question 3:\n",
    "np_arr = np.array(['a','b','c','d','e'])\n",
    "\n",
    "pd_series = pd.Series(np_arr)\n",
    "print('Series generated using pandas: \\n',pd_series)\n",
    "\n",
    "pd_dataframe = pd.DataFrame([pd_series])\n",
    "\n",
    "print('\\nDataframe generated from series: \\n',pd_dataframe)"
   ]
  },
  {
   "cell_type": "raw",
   "metadata": {},
   "source": [
    "Question 4:\n",
    "Write the code to list all the datasets available in seaborn library.\n",
    "Load the 'mpg' dataset\n",
    "Note: mpg dataset will be read from seaborn module in the manner sir has already shown(provided in the\n",
    "materials folder)"
   ]
  },
  {
   "cell_type": "code",
   "execution_count": 17,
   "metadata": {},
   "outputs": [
    {
     "name": "stdout",
     "output_type": "stream",
     "text": [
      "['anagrams', 'anscombe', 'attention', 'brain_networks', 'car_crashes', 'diamonds', 'dots', 'exercise', 'flights', 'fmri', 'gammas', 'geyser', 'iris', 'mpg', 'penguins', 'planets', 'tips', 'titanic']\n",
      "\n",
      "Printing the loaded mpg dataset: \n",
      "       mpg  cylinders  displacement  horsepower  weight  acceleration  \\\n",
      "0    18.0          8         307.0       130.0    3504          12.0   \n",
      "1    15.0          8         350.0       165.0    3693          11.5   \n",
      "2    18.0          8         318.0       150.0    3436          11.0   \n",
      "3    16.0          8         304.0       150.0    3433          12.0   \n",
      "4    17.0          8         302.0       140.0    3449          10.5   \n",
      "..    ...        ...           ...         ...     ...           ...   \n",
      "393  27.0          4         140.0        86.0    2790          15.6   \n",
      "394  44.0          4          97.0        52.0    2130          24.6   \n",
      "395  32.0          4         135.0        84.0    2295          11.6   \n",
      "396  28.0          4         120.0        79.0    2625          18.6   \n",
      "397  31.0          4         119.0        82.0    2720          19.4   \n",
      "\n",
      "     model_year  origin                       name  \n",
      "0            70     usa  chevrolet chevelle malibu  \n",
      "1            70     usa          buick skylark 320  \n",
      "2            70     usa         plymouth satellite  \n",
      "3            70     usa              amc rebel sst  \n",
      "4            70     usa                ford torino  \n",
      "..          ...     ...                        ...  \n",
      "393          82     usa            ford mustang gl  \n",
      "394          82  europe                  vw pickup  \n",
      "395          82     usa              dodge rampage  \n",
      "396          82     usa                ford ranger  \n",
      "397          82     usa                 chevy s-10  \n",
      "\n",
      "[398 rows x 9 columns]\n"
     ]
    }
   ],
   "source": [
    "#Solution to Question 4:\n",
    "import seaborn as sns\n",
    "\n",
    "print(sns.get_dataset_names());\n",
    "\n",
    "mpg_dataset = sns.load_dataset('mpg')\n",
    "\n",
    "print('\\nPrinting the loaded mpg dataset: \\n',mpg_dataset)"
   ]
  },
  {
   "cell_type": "raw",
   "metadata": {},
   "source": [
    "Question 5:\n",
    "Which country origin cars are a part of this dataset?"
   ]
  },
  {
   "cell_type": "code",
   "execution_count": 23,
   "metadata": {},
   "outputs": [
    {
     "name": "stdout",
     "output_type": "stream",
     "text": [
      "Unique countries in origin column are: \n",
      " ['usa' 'japan' 'europe']\n"
     ]
    }
   ],
   "source": [
    "#Solution to Question 5:\n",
    "mpg_dataframes = pd.DataFrame(mpg_dataset)\n",
    "\n",
    "data_origin = mpg_dataframes.origin.unique();\n",
    "print('Unique countries in origin column are: \\n',data_origin)"
   ]
  },
  {
   "cell_type": "raw",
   "metadata": {},
   "source": [
    "Question 6:\n",
    "Extract the part of the dataframe which contains cars belonging to 'usa'"
   ]
  },
  {
   "cell_type": "code",
   "execution_count": 29,
   "metadata": {},
   "outputs": [
    {
     "name": "stdout",
     "output_type": "stream",
     "text": [
      "[      mpg  cylinders  displacement  horsepower  weight  acceleration  \\\n",
      "0    18.0          8         307.0       130.0    3504          12.0   \n",
      "1    15.0          8         350.0       165.0    3693          11.5   \n",
      "2    18.0          8         318.0       150.0    3436          11.0   \n",
      "3    16.0          8         304.0       150.0    3433          12.0   \n",
      "4    17.0          8         302.0       140.0    3449          10.5   \n",
      "..    ...        ...           ...         ...     ...           ...   \n",
      "392  27.0          4         151.0        90.0    2950          17.3   \n",
      "393  27.0          4         140.0        86.0    2790          15.6   \n",
      "395  32.0          4         135.0        84.0    2295          11.6   \n",
      "396  28.0          4         120.0        79.0    2625          18.6   \n",
      "397  31.0          4         119.0        82.0    2720          19.4   \n",
      "\n",
      "     model_year origin                       name  \n",
      "0            70    usa  chevrolet chevelle malibu  \n",
      "1            70    usa          buick skylark 320  \n",
      "2            70    usa         plymouth satellite  \n",
      "3            70    usa              amc rebel sst  \n",
      "4            70    usa                ford torino  \n",
      "..          ...    ...                        ...  \n",
      "392          82    usa           chevrolet camaro  \n",
      "393          82    usa            ford mustang gl  \n",
      "395          82    usa              dodge rampage  \n",
      "396          82    usa                ford ranger  \n",
      "397          82    usa                 chevy s-10  \n",
      "\n",
      "[249 rows x 9 columns]]\n"
     ]
    }
   ],
   "source": [
    "#Solution to question 6:\n",
    "\n",
    "mpg_usa_dataframe = mpg_dataframes[mpg_dataframes['origin'].str.contains('usa')]\n",
    "print([mpg_usa_dataframe])"
   ]
  },
  {
   "cell_type": "code",
   "execution_count": null,
   "metadata": {},
   "outputs": [],
   "source": []
  }
 ],
 "metadata": {
  "kernelspec": {
   "display_name": "Python 3",
   "language": "python",
   "name": "python3"
  },
  "language_info": {
   "codemirror_mode": {
    "name": "ipython",
    "version": 3
   },
   "file_extension": ".py",
   "mimetype": "text/x-python",
   "name": "python",
   "nbconvert_exporter": "python",
   "pygments_lexer": "ipython3",
   "version": "3.7.6"
  }
 },
 "nbformat": 4,
 "nbformat_minor": 4
}
