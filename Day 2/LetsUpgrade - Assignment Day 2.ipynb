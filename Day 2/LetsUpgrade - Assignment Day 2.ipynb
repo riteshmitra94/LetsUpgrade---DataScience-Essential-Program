{
 "cells": [
  {
   "cell_type": "code",
   "execution_count": 1,
   "metadata": {},
   "outputs": [
    {
     "name": "stdout",
     "output_type": "stream",
     "text": [
      "1\n",
      "2\n",
      "3\n",
      "4\n",
      "5\n",
      "6\n",
      "7\n",
      "8\n",
      "9\n",
      "10\n",
      "List:  [2, 4, 6, 8, 10]\n"
     ]
    }
   ],
   "source": [
    "#Question 1:\n",
    "#Create an empty list. Accept 10 numbers from the user and append to it the list if it is an even number. \n",
    "\n",
    "numlist = []\n",
    "\n",
    "for i in range(0,10):\n",
    "    x = int(input())\n",
    "    if x%2 == 0:\n",
    "        numlist.append(x)\n",
    "\n",
    "print('List: ',numlist)"
   ]
  },
  {
   "cell_type": "raw",
   "metadata": {},
   "source": [
    "Question 2:\n",
    "Create a notebook on LIST COMPREHENSION. This exercise is to put you in a Self learning mode\n",
    "\n",
    "List comprehension is an easier way to create list out of existing list or some simple operations"
   ]
  },
  {
   "cell_type": "code",
   "execution_count": 5,
   "metadata": {},
   "outputs": [
    {
     "name": "stdout",
     "output_type": "stream",
     "text": [
      "contents of string in list:  ['L', 'e', 't', 's', ' ', 'U', 'p', 'g', 'r', 'a', 'd', 'e']\n",
      "list of odd numbers:  [1, 3, 5, 7, 9]\n"
     ]
    }
   ],
   "source": [
    "#Solution to Question 2, Example of List Comprehension:\n",
    "\n",
    "list_of_letters = [character for character in 'Lets Upgrade']\n",
    "print('contents of string in list: ',list_of_letters)\n",
    "\n",
    "list_of_odd_numbers = [num for num in range(10) if num%2 != 0]\n",
    "print('list of odd numbers: ',list_of_odd_numbers)"
   ]
  },
  {
   "cell_type": "raw",
   "metadata": {},
   "source": [
    "Question 3: You have seen in the videos how powerful dictionary data structure is. \n",
    "\n",
    "In this assignment, given a number n, you have to write a program that generates a dictionary d which contains (i, i*i), where i is from 1 to n (both included). \n",
    "Then you have to just print this dictionary d. \n",
    "Example: \n",
    "Input: 4 \n",
    "will give output as \n",
    "{1: 1, 2: 4, 3: 9, 4: 16} \n",
    "Input Format: \n",
    "Take the number n in a single line. \n",
    "Output Format: \n",
    "Print the dictionary d in a single line."
   ]
  },
  {
   "cell_type": "code",
   "execution_count": 6,
   "metadata": {},
   "outputs": [
    {
     "name": "stdout",
     "output_type": "stream",
     "text": [
      "Enter the range: 5\n",
      "{1: 1, 2: 4, 3: 9, 4: 16, 5: 25}\n"
     ]
    }
   ],
   "source": [
    "#Solution for Question 3\n",
    "\n",
    "my_dict = {}\n",
    "\n",
    "n = int(input('Enter the range: '))\n",
    "\n",
    "for x in range(1, n+1):\n",
    "    my_dict[x] =  x*x\n",
    "\n",
    "print(my_dict)"
   ]
  },
  {
   "cell_type": "raw",
   "metadata": {},
   "source": [
    "Question 4:\n",
    "\n",
    "There is a robot which wants to go the charging point to charge itself. \n",
    "The robot moves in a 2-D plane from the original point (0,0). The robot can \n",
    "move toward UP, DOWN, LEFT and RIGHT with given steps. \n",
    "The trace of robot movement is shown as the following: \n",
    "UP 5 \n",
    "DOWN 3 \n",
    "LEFT 3 \n",
    "RIGHT 2 \n",
    "Then, the output of the program should be: \n",
    "2 \n",
    "The numbers after the direction are steps. \n",
    "Write a program to compute the distance between the current position after \n",
    "a sequence of movement and original point. If the distance is a float, then \n",
    "just print the nearest integer (use round() function for that and then convert \n",
    "it into an integer). \n",
    "Input Format: \n",
    "The first line of the input contains a number n which implies the number of \n",
    "directions to be given. \n",
    "The next n lines contain the direction and the step separated by a space. \n",
    "Output Format: \n",
    "Print the distance from the original position to the current position. \n",
    "Example: \n",
    "Input: \n",
    "4 \n",
    "UP 5 \n",
    "DOWN 3 \n",
    "LEFT 3 \n",
    "RIGHT 2 \n",
    "Output: \n",
    "2"
   ]
  },
  {
   "cell_type": "code",
   "execution_count": 2,
   "metadata": {},
   "outputs": [
    {
     "name": "stdout",
     "output_type": "stream",
     "text": [
      "Input number of commands: 4\n",
      "UP 5\n",
      "DOWN 3\n",
      "LEFT 3\n",
      "RIGHT 2\n",
      "2\n"
     ]
    }
   ],
   "source": [
    "#Solution to Question 4:\n",
    "import math\n",
    "no_of_commands = int(input('Input number of commands: '))\n",
    "\n",
    "current_position = {'x': 0, 'y': 0}\n",
    "\n",
    "def calc_position(inst_set):\n",
    "    inst = inst_set.split(' ')\n",
    "    \n",
    "    if inst[0] == 'UP':\n",
    "        current_position['y'] = current_position['y'] + int(inst[1])\n",
    "    elif inst[0] == 'DOWN':\n",
    "        current_position['y'] = current_position['y'] - int(inst[1])\n",
    "    elif inst[0] == 'RIGHT':\n",
    "        current_position['X'] = current_position['x'] + int(inst[1])\n",
    "    elif inst[0] == 'LEFT':\n",
    "        current_position['X'] = current_position['x'] - int(inst[1])\n",
    "    return\n",
    "\n",
    "for x in range(0, no_of_commands):\n",
    "    inst = input()\n",
    "    calc_position(inst)\n",
    "    \n",
    "distance = math.sqrt(pow(current_position['y'], 2) + pow(current_position['x'], 2))\n",
    "\n",
    "print(round(distance))"
   ]
  },
  {
   "cell_type": "code",
   "execution_count": null,
   "metadata": {},
   "outputs": [],
   "source": []
  }
 ],
 "metadata": {
  "kernelspec": {
   "display_name": "Python 3",
   "language": "python",
   "name": "python3"
  },
  "language_info": {
   "codemirror_mode": {
    "name": "ipython",
    "version": 3
   },
   "file_extension": ".py",
   "mimetype": "text/x-python",
   "name": "python",
   "nbconvert_exporter": "python",
   "pygments_lexer": "ipython3",
   "version": "3.7.6"
  }
 },
 "nbformat": 4,
 "nbformat_minor": 4
}
